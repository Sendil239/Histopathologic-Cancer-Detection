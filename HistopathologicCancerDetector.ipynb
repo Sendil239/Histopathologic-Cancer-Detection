{
 "cells": [
  {
   "cell_type": "markdown",
   "metadata": {
    "id": "maAAvWv365F7"
   },
   "source": [
    "## Histopathologic Cancer Detection\n",
    "### Identifying cancer cells in histopathologic scans of lymph node sections\n",
    "\n",
    "#### INTRODUCTION:\n",
    "Computer Vision has become an attractive topic in machine learning field. This capability of the computer is playing an important role in medical field towards building an Intelligent Computer Aided Design for fast and accurate identification of tumors, internal scars and other health problems. The main aim of selecting this project is to obtain a base idea of medical image processing. The main idea of this project is to make use of CNN (Convolutional Neural Networks) to analysze and learn from the given training data and perform classification on the test data."
   ]
  },
  {
   "cell_type": "markdown",
   "metadata": {
    "id": "tA7i3dBW8QCD"
   },
   "source": [
    "#### DataSet Link:  <a href=\"https://www.kaggle.com/c/histopathologic-cancer-detection/data\"> Link </a>"
   ]
  },
  {
   "cell_type": "markdown",
   "metadata": {
    "id": "NSsFcdfQ6477"
   },
   "source": [
    "#### METHOD:"
   ]
  },
  {
   "cell_type": "code",
   "execution_count": 22,
   "metadata": {
    "id": "fmPwaYqqDJLd"
   },
   "outputs": [],
   "source": [
    "#Importing necessary libraries to create a CNN model\n",
    "import numpy as np\n",
    "import matplotlib.pyplot as plt\n",
    "import pandas as pd\n",
    "import math\n",
    "from keras_preprocessing.image import ImageDataGenerator\n",
    "import keras\n",
    "from keras.models import Sequential\n",
    "from keras.layers import *\n",
    "from sklearn.utils import shuffle\n",
    "from sklearn.metrics import f1_score, accuracy_score"
   ]
  },
  {
   "cell_type": "markdown",
   "metadata": {
    "id": "gl8X-oVNMJpS"
   },
   "source": [
    "#### Importing the train and test datas."
   ]
  },
  {
   "cell_type": "code",
   "execution_count": 23,
   "metadata": {
    "id": "iCQHGHVEF_2H"
   },
   "outputs": [],
   "source": [
    "#Getting the train and test data.\n",
    "train_data = pd.read_csv(\"../content/dataset/train_labels.csv\", dtype=str)\n",
    "test_data = train_data.head(1000)\n",
    "train_data = train_data.iloc[1000: , :]\n",
    "train_data.reset_index(drop=True)\n",
    "train_path = \"../content/dataset/train/\"\n",
    "test_path = \"../content/dataset/train/\"\n",
    "train_data.id = train_data.id + '.tif'\n",
    "test_data.id = test_data.id + '.tif'"
   ]
  },
  {
   "cell_type": "code",
   "execution_count": 24,
   "metadata": {
    "id": "C-nfvZk_Gp6M"
   },
   "outputs": [],
   "source": [
    "#Using the ImageDataGenerator to expand the training dataset and to make the model more efficient.\n",
    "train_datagen = ImageDataGenerator(rescale=1/255, validation_split=0.20)\n",
    "test_datagen = ImageDataGenerator(rescale=1/255)"
   ]
  },
  {
   "cell_type": "code",
   "execution_count": 25,
   "metadata": {
    "colab": {
     "base_uri": "https://localhost:8080/"
    },
    "id": "uPenpvvZGuC2",
    "outputId": "7918641d-6b22-4095-ce8a-24168671a42a"
   },
   "outputs": [
    {
     "name": "stdout",
     "output_type": "stream",
     "text": [
      "Found 175220 validated image filenames belonging to 2 classes.\n",
      "Found 43805 validated image filenames belonging to 2 classes.\n",
      "Found 1000 validated image filenames.\n"
     ]
    }
   ],
   "source": [
    "batch = 32\n",
    "train_steps = 175020 // batch\n",
    "validate_steps = 43005 // batch\n",
    "test_steps = 1000 // batch\n",
    "\n",
    "train_gen = train_datagen.flow_from_dataframe(\n",
    "    dataframe = train_data,\n",
    "    directory = train_path,\n",
    "    x_col = \"id\",\n",
    "    y_col = \"label\",\n",
    "    subset = \"training\",\n",
    "    batch_size = batch,\n",
    "    shuffle = True,\n",
    "    class_mode = \"categorical\",\n",
    "    target_size = (96, 96))\n",
    "\n",
    "valid_gen = train_datagen.flow_from_dataframe(\n",
    "    dataframe = train_data,\n",
    "    directory = train_path,\n",
    "    x_col = \"id\",\n",
    "    y_col = \"label\",\n",
    "    subset = \"validation\",\n",
    "    batch_size = batch,\n",
    "    shuffle = True,\n",
    "    class_mode = \"categorical\",\n",
    "    target_size = (96, 96))\n",
    "\n",
    "test_gen = test_datagen.flow_from_dataframe(\n",
    "    dataframe = test_data,\n",
    "    directory = test_path,\n",
    "    x_col = \"id\",\n",
    "    y_col = None,\n",
    "    batch_size = batch,\n",
    "    shuffle = False,\n",
    "    class_mode = None,\n",
    "    target_size = (96, 96))"
   ]
  },
  {
   "cell_type": "markdown",
   "metadata": {
    "id": "HcjNlPt9MZMe"
   },
   "source": [
    "#### Model Summary"
   ]
  },
  {
   "cell_type": "code",
   "execution_count": 26,
   "metadata": {
    "colab": {
     "base_uri": "https://localhost:8080/"
    },
    "id": "QviIs6RRG2F9",
    "outputId": "68306ea0-6c26-4a1d-ea41-1aa12fe8893f"
   },
   "outputs": [
    {
     "name": "stdout",
     "output_type": "stream",
     "text": [
      "Model: \"sequential_1\"\n",
      "_________________________________________________________________\n",
      "Layer (type)                 Output Shape              Param #   \n",
      "=================================================================\n",
      "cropping2d_1 (Cropping2D)    (None, 32, 32, 3)         0         \n",
      "_________________________________________________________________\n",
      "conv2d_2 (Conv2D)            (None, 32, 32, 32)        896       \n",
      "_________________________________________________________________\n",
      "max_pooling2d_2 (MaxPooling2 (None, 16, 16, 32)        0         \n",
      "_________________________________________________________________\n",
      "batch_normalization_2 (Batch (None, 16, 16, 32)        128       \n",
      "_________________________________________________________________\n",
      "conv2d_3 (Conv2D)            (None, 16, 16, 32)        9248      \n",
      "_________________________________________________________________\n",
      "max_pooling2d_3 (MaxPooling2 (None, 8, 8, 32)          0         \n",
      "_________________________________________________________________\n",
      "conv2d_4 (Conv2D)            (None, 8, 8, 32)          9248      \n",
      "_________________________________________________________________\n",
      "max_pooling2d_4 (MaxPooling2 (None, 4, 4, 32)          0         \n",
      "_________________________________________________________________\n",
      "flatten_1 (Flatten)          (None, 512)               0         \n",
      "_________________________________________________________________\n",
      "dense_2 (Dense)              (None, 64)                32768     \n",
      "_________________________________________________________________\n",
      "batch_normalization_3 (Batch (None, 64)                256       \n",
      "_________________________________________________________________\n",
      "activation_1 (Activation)    (None, 64)                0         \n",
      "_________________________________________________________________\n",
      "dense_3 (Dense)              (None, 2)                 130       \n",
      "=================================================================\n",
      "Total params: 52,674\n",
      "Trainable params: 52,482\n",
      "Non-trainable params: 192\n",
      "_________________________________________________________________\n"
     ]
    }
   ],
   "source": [
    "np.random.seed(1) #used to make the random numbers predictable\n",
    "\n",
    "# Initialising the CNN model\n",
    "model = Sequential()\n",
    "\n",
    "model.add(Cropping2D(cropping=((32, 32), (32, 32)), input_shape=(96, 96, 3)))\n",
    "model.add(Conv2D(32, (3, 3), padding = 'same', activation = 'relu'))\n",
    "\n",
    "model.add(MaxPooling2D(2, 2))\n",
    "model.add(BatchNormalization())\n",
    "\n",
    "model.add(Conv2D(32, (3, 3), padding = 'same', activation = 'relu'))\n",
    "model.add(MaxPooling2D(2, 2))\n",
    "\n",
    "model.add(Conv2D(32, (3, 3), padding = 'same', activation = 'relu'))\n",
    "model.add(MaxPooling2D(2, 2))\n",
    "\n",
    "model.add(Flatten())\n",
    "\n",
    "model.add(Dense(64, use_bias=False))\n",
    "model.add(BatchNormalization())\n",
    "model.add(Activation(\"relu\"))\n",
    "model.add(Dense(2, activation = 'softmax'))\n",
    "\n",
    "model.summary()"
   ]
  },
  {
   "cell_type": "markdown",
   "metadata": {
    "id": "eJ4C5mcyPdh0"
   },
   "source": [
    "#### Compiling the model"
   ]
  },
  {
   "cell_type": "code",
   "execution_count": 27,
   "metadata": {
    "colab": {
     "base_uri": "https://localhost:8080/"
    },
    "id": "WvqBOx6qG5--",
    "outputId": "e71c3945-c303-4572-e17f-510aa7b53b47"
   },
   "outputs": [
    {
     "name": "stdout",
     "output_type": "stream",
     "text": [
      "Epoch 1/10\n",
      "5469/5469 [==============================] - 492s 90ms/step - loss: 0.4965 - accuracy: 0.7662 - val_loss: 0.4351 - val_accuracy: 0.8065\n",
      "Epoch 2/10\n",
      "5469/5469 [==============================] - 455s 83ms/step - loss: 0.4297 - accuracy: 0.8072 - val_loss: 0.4221 - val_accuracy: 0.8170\n",
      "Epoch 3/10\n",
      "5469/5469 [==============================] - 470s 86ms/step - loss: 0.4098 - accuracy: 0.8180 - val_loss: 0.4104 - val_accuracy: 0.8186\n",
      "Epoch 4/10\n",
      "5469/5469 [==============================] - 471s 86ms/step - loss: 0.3968 - accuracy: 0.8254 - val_loss: 0.4004 - val_accuracy: 0.8211\n",
      "Epoch 5/10\n",
      "5469/5469 [==============================] - 485s 89ms/step - loss: 0.3843 - accuracy: 0.8310 - val_loss: 0.4048 - val_accuracy: 0.8254\n",
      "Epoch 6/10\n",
      "5469/5469 [==============================] - 453s 83ms/step - loss: 0.3739 - accuracy: 0.8376 - val_loss: 0.3667 - val_accuracy: 0.8418\n",
      "Epoch 7/10\n",
      "5469/5469 [==============================] - 469s 86ms/step - loss: 0.3653 - accuracy: 0.8419 - val_loss: 0.3715 - val_accuracy: 0.8394\n",
      "Epoch 8/10\n",
      "5469/5469 [==============================] - 460s 84ms/step - loss: 0.3549 - accuracy: 0.8476 - val_loss: 0.3807 - val_accuracy: 0.8368\n",
      "Epoch 9/10\n",
      "5469/5469 [==============================] - 463s 85ms/step - loss: 0.3511 - accuracy: 0.8482 - val_loss: 0.3782 - val_accuracy: 0.8362\n",
      "Epoch 10/10\n",
      "5469/5469 [==============================] - 462s 84ms/step - loss: 0.3465 - accuracy: 0.8520 - val_loss: 0.4183 - val_accuracy: 0.8192\n"
     ]
    }
   ],
   "source": [
    "opt = keras.optimizers.Adam(learning_rate=0.00015, beta_1=0.9, beta_2=0.999, epsilon=1e-07, amsgrad=False, decay=0.0)\n",
    "\n",
    "#Compiling the model\n",
    "model.compile(loss='binary_crossentropy', optimizer=opt, metrics=['accuracy'])\n",
    "\n",
    "hist = model.fit(train_gen, epochs=10, validation_data=valid_gen, steps_per_epoch=train_steps, validation_steps=validate_steps, verbose=1)"
   ]
  },
  {
   "cell_type": "markdown",
   "metadata": {
    "id": "6LIrLdn-PhiK"
   },
   "source": [
    "#### Plotting the accuracy vs epoch and loss vs epoch graphs"
   ]
  },
  {
   "cell_type": "code",
   "execution_count": 28,
   "metadata": {
    "colab": {
     "base_uri": "https://localhost:8080/",
     "height": 442
    },
    "id": "facFtlhhG__j",
    "outputId": "f3148cab-91b1-4708-c655-29ea580358c7"
   },
   "outputs": [
    {
     "data": {
      "image/png": "[encoded data removed]",
      "text/plain": [
       "<Figure size 1080x504 with 2 Axes>"
      ]
     },
     "metadata": {
      "needs_background": "light",
      "tags": []
     },
     "output_type": "display_data"
    }
   ],
   "source": [
    "epochs = range(1, len(hist.history['accuracy']) + 1)\n",
    "\n",
    "plt.figure(figsize=[15, 7])\n",
    "plt.subplot(1, 2, 1)\n",
    "plt.plot(epochs, hist.history['accuracy'], label='Training Accuracy')\n",
    "plt.plot(epochs, hist.history['val_accuracy'], label='Validation Accuracy')\n",
    "plt.xlabel('Epoch')\n",
    "plt.legend()\n",
    "\n",
    "plt.subplot(1, 2, 2)\n",
    "plt.plot(epochs, hist.history['loss'], label='Loss')\n",
    "plt.plot(epochs, hist.history['val_loss'], label='Validation Loss')\n",
    "plt.xlabel('Epoch')\n",
    "plt.legend()\n",
    "\n",
    "plt.show()"
   ]
  },
  {
   "cell_type": "markdown",
   "metadata": {
    "id": "oI5FO1vQPymB"
   },
   "source": [
    "#### Calculating the accuracy and F1 score for Test Data"
   ]
  },
  {
   "cell_type": "code",
   "execution_count": 29,
   "metadata": {
    "colab": {
     "base_uri": "https://localhost:8080/"
    },
    "id": "1XTtfoDyHFaE",
    "outputId": "60f73982-3e73-4529-ac29-22bdef05b2b9"
   },
   "outputs": [
    {
     "name": "stdout",
     "output_type": "stream",
     "text": [
      "31/31 [==============================] - 3s 82ms/step\n",
      "F1-Score: 0.739612188365651\n",
      "Test Accuracy 0.8104838709677419\n"
     ]
    }
   ],
   "source": [
    "test_pred = model.predict(test_gen, steps = test_steps, verbose=1)\n",
    "pred = np.argmax(test_pred, axis=1)\n",
    "\n",
    "print(\"F1-Score:\",f1_score(test_data.label.astype(int).iloc[:992], pred))\n",
    "print(\"Test Accuracy\",accuracy_score(test_data.label.astype(int).iloc[:992], pred))"
   ]
  },
  {
   "cell_type": "markdown",
   "metadata": {
    "id": "GtYucEFLDbnA"
   },
   "source": [
    "#### RESULT:\n",
    "The accuracy for test data obtained by using CNN model is 81%\n",
    "\n",
    "The F1 score for test data obtained is 0.73\n",
    "\n",
    "While designing a model with two convolutional layer we obtained an accuracy of 65%. After adding one more convolutional layer with maxpooling and batch normalization layer we are able to achieve an accuracy of about 81% for test data."
   ]
  },
  {
   "cell_type": "markdown",
   "metadata": {
    "id": "AjdnvdhkDbdS"
   },
   "source": [
    "#### DISCUSSION:\n",
    "By using the CNN model we are able to identify the cancer cells on the image data with an accuracy of around 80%. By utilizing some of the pretrained models to extract features we can increase the accuracy and provide better prediction. For medical imaging UNet based architecture provides better results.\n",
    "\n",
    "Possible Future works include:\n",
    "\n",
    "1. Implementing UNet segmentation for better prediction.\n",
    "2. Training the model for more generalized tumor predictions with different datasets and analyzing its performance."
   ]
  },
  {
   "cell_type": "markdown",
   "metadata": {
    "id": "8ug6PCl-d73G"
   },
   "source": [
    "#### References:\n",
    "1. https://vijayabhaskar96.medium.com/tutorial-on-keras-flow-from-dataframe-1fd4493d237c\n",
    "2. https://towardsdatascience.com/a-comprehensive-guide-to-convolutional-neural-networks-the-eli5-way-3bd2b1164a53"
   ]
  }
 ],
 "metadata": {
  "accelerator": "TPU",
  "colab": {
   "collapsed_sections": [],
   "name": "PRFinalProject.ipynb",
   "provenance": [],
   "toc_visible": true
  },
  "kernelspec": {
   "display_name": "Python 3",
   "language": "python",
   "name": "python3"
  },
  "language_info": {
   "codemirror_mode": {
    "name": "ipython",
    "version": 3
   },
   "file_extension": ".py",
   "mimetype": "text/x-python",
   "name": "python",
   "nbconvert_exporter": "python",
   "pygments_lexer": "ipython3",
   "version": "3.8.5"
  }
 },
 "nbformat": 4,
 "nbformat_minor": 1
}
